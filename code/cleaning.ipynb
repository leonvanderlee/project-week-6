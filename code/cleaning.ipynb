{
 "cells": [
  {
   "cell_type": "markdown",
   "metadata": {},
   "source": [
    "# Import"
   ]
  },
  {
   "cell_type": "code",
   "execution_count": 78,
   "metadata": {},
   "outputs": [],
   "source": [
    "import pandas as pd\n",
    "import pymysql\n",
    "from sqlalchemy import create_engine"
   ]
  },
  {
   "cell_type": "markdown",
   "metadata": {},
   "source": [
    "# Engine SQL"
   ]
  },
  {
   "cell_type": "code",
   "execution_count": 79,
   "metadata": {},
   "outputs": [],
   "source": [
    "engine = create_engine('mysql+pymysql://root@localhost/project-week-6')"
   ]
  },
  {
   "cell_type": "markdown",
   "metadata": {},
   "source": [
    "# Average GDP Per Capita"
   ]
  },
  {
   "cell_type": "code",
   "execution_count": 80,
   "metadata": {},
   "outputs": [],
   "source": [
    "data = pd.read_csv('../data/average-real-gdp-per-capita-across-countries-and-regions.csv')"
   ]
  },
  {
   "cell_type": "code",
   "execution_count": 81,
   "metadata": {},
   "outputs": [],
   "source": [
    "data = data.rename(columns={'GDP per capita (int.-$) ($)': 'GDP'})"
   ]
  },
  {
   "cell_type": "code",
   "execution_count": 82,
   "metadata": {},
   "outputs": [],
   "source": [
    "data.to_sql('average_gdp_per_capita', engine, if_exists='replace', index=False)"
   ]
  },
  {
   "cell_type": "markdown",
   "metadata": {},
   "source": [
    "# Landlocked Countries"
   ]
  },
  {
   "cell_type": "code",
   "execution_count": 83,
   "metadata": {},
   "outputs": [],
   "source": [
    "landlocked = pd.read_csv('../data/landlocked_countries 2020.csv')\n",
    "\n",
    "landlocked = landlocked.rename(columns={'country': 'Country'})\n",
    "\n",
    "landlocked['Landlocked'] = '1'\n",
    "\n",
    "landlocked[\"Landlocked\"] = landlocked[\"Landlocked\"].astype(str).astype(int)"
   ]
  },
  {
   "cell_type": "code",
   "execution_count": 84,
   "metadata": {},
   "outputs": [],
   "source": [
    "year2016_data_countries = pd.read_csv('../data/average-real-gdp-per-capita-across-countries-and-regions.csv')\n",
    "\n",
    "year2016_data_countries = year2016_data_countries.loc[data['Year'] == 2016]\n",
    "\n",
    "year2016_data_countries = year2016_data_countries.dropna()\n",
    "\n",
    "year2016_data_countries = year2016_data_countries.drop(18000)\n",
    "\n",
    "year2016_data_countries = year2016_data_countries.rename(columns={'GDP per capita (int.-$) ($)': 'GDP', 'Entity': 'Country'})"
   ]
  },
  {
   "cell_type": "code",
   "execution_count": 85,
   "metadata": {},
   "outputs": [],
   "source": [
    "data = pd.merge(year2016_data_countries, landlocked, on='Country', how='left')\n",
    "\n",
    "data['Landlocked'] = data['Landlocked'].fillna(0)\n",
    "\n",
    "data = data.drop(['pop2020', 'Year'], axis=1)"
   ]
  },
  {
   "cell_type": "code",
   "execution_count": 86,
   "metadata": {},
   "outputs": [],
   "source": [
    "data.to_sql('landlocked_countries', engine, if_exists='replace', index=False)"
   ]
  },
  {
   "cell_type": "markdown",
   "metadata": {},
   "source": [
    "# Natural resources rents"
   ]
  },
  {
   "cell_type": "code",
   "execution_count": 87,
   "metadata": {},
   "outputs": [
    {
     "output_type": "execute_result",
     "data": {
      "text/plain": "               Entity      Code  Year  Natural resources of GDP\n27        Afghanistan       AFG  2016                  0.598008\n60            Albania       ALB  2016                  1.973313\n107           Algeria       DZA  2016                 13.631655\n122    American Samoa       ASM  2016                  0.000000\n169           Andorra       AND  2016                  0.000000\n...               ...       ...   ...                       ...\n10080         Vietnam       VNM  2016                  2.301114\n10127           World  OWID_WRL  2016                  1.894270\n10154           Yemen       YEM  2016                  0.982571\n10201          Zambia       ZMB  2016                 15.133440\n10248        Zimbabwe       ZWE  2016                  8.754979\n\n[237 rows x 4 columns]",
      "text/html": "<div>\n<style scoped>\n    .dataframe tbody tr th:only-of-type {\n        vertical-align: middle;\n    }\n\n    .dataframe tbody tr th {\n        vertical-align: top;\n    }\n\n    .dataframe thead th {\n        text-align: right;\n    }\n</style>\n<table border=\"1\" class=\"dataframe\">\n  <thead>\n    <tr style=\"text-align: right;\">\n      <th></th>\n      <th>Entity</th>\n      <th>Code</th>\n      <th>Year</th>\n      <th>Natural resources of GDP</th>\n    </tr>\n  </thead>\n  <tbody>\n    <tr>\n      <th>27</th>\n      <td>Afghanistan</td>\n      <td>AFG</td>\n      <td>2016</td>\n      <td>0.598008</td>\n    </tr>\n    <tr>\n      <th>60</th>\n      <td>Albania</td>\n      <td>ALB</td>\n      <td>2016</td>\n      <td>1.973313</td>\n    </tr>\n    <tr>\n      <th>107</th>\n      <td>Algeria</td>\n      <td>DZA</td>\n      <td>2016</td>\n      <td>13.631655</td>\n    </tr>\n    <tr>\n      <th>122</th>\n      <td>American Samoa</td>\n      <td>ASM</td>\n      <td>2016</td>\n      <td>0.000000</td>\n    </tr>\n    <tr>\n      <th>169</th>\n      <td>Andorra</td>\n      <td>AND</td>\n      <td>2016</td>\n      <td>0.000000</td>\n    </tr>\n    <tr>\n      <th>...</th>\n      <td>...</td>\n      <td>...</td>\n      <td>...</td>\n      <td>...</td>\n    </tr>\n    <tr>\n      <th>10080</th>\n      <td>Vietnam</td>\n      <td>VNM</td>\n      <td>2016</td>\n      <td>2.301114</td>\n    </tr>\n    <tr>\n      <th>10127</th>\n      <td>World</td>\n      <td>OWID_WRL</td>\n      <td>2016</td>\n      <td>1.894270</td>\n    </tr>\n    <tr>\n      <th>10154</th>\n      <td>Yemen</td>\n      <td>YEM</td>\n      <td>2016</td>\n      <td>0.982571</td>\n    </tr>\n    <tr>\n      <th>10201</th>\n      <td>Zambia</td>\n      <td>ZMB</td>\n      <td>2016</td>\n      <td>15.133440</td>\n    </tr>\n    <tr>\n      <th>10248</th>\n      <td>Zimbabwe</td>\n      <td>ZWE</td>\n      <td>2016</td>\n      <td>8.754979</td>\n    </tr>\n  </tbody>\n</table>\n<p>237 rows × 4 columns</p>\n</div>"
     },
     "metadata": {},
     "execution_count": 87
    }
   ],
   "source": [
    "natural_resource = pd.read_csv('../data/natural-resource-rents.csv')\n",
    "\n",
    "natural_resource = natural_resource.rename(columns={'Total natural resources rents (% of GDP) (% of GDP)': 'Natural resources of GDP'})\n",
    "\n",
    "natural_resource = natural_resource.loc[natural_resource['Year'] == 2016]\n",
    "\n",
    "natural_resource"
   ]
  },
  {
   "cell_type": "code",
   "execution_count": 88,
   "metadata": {},
   "outputs": [
    {
     "output_type": "execute_result",
     "data": {
      "text/plain": "                  Entity      Code  Year    GDP\n66           Afghanistan       AFG  2016   1929\n133               Africa       NaN  2016   4680\n206              Albania       ALB  2016  11285\n253              Algeria       DZA  2016  13328\n295               Angola       AGO  2016   8397\n...                  ...       ...   ...    ...\n17929  Western Offshoots       NaN  2016  51342\n18000              World  OWID_WRL  2016  14574\n18067              Yemen       YEM  2016   2199\n18134             Zambia       ZMB  2016   3538\n18201           Zimbabwe       ZWE  2016   1729\n\n[174 rows x 4 columns]",
      "text/html": "<div>\n<style scoped>\n    .dataframe tbody tr th:only-of-type {\n        vertical-align: middle;\n    }\n\n    .dataframe tbody tr th {\n        vertical-align: top;\n    }\n\n    .dataframe thead th {\n        text-align: right;\n    }\n</style>\n<table border=\"1\" class=\"dataframe\">\n  <thead>\n    <tr style=\"text-align: right;\">\n      <th></th>\n      <th>Entity</th>\n      <th>Code</th>\n      <th>Year</th>\n      <th>GDP</th>\n    </tr>\n  </thead>\n  <tbody>\n    <tr>\n      <th>66</th>\n      <td>Afghanistan</td>\n      <td>AFG</td>\n      <td>2016</td>\n      <td>1929</td>\n    </tr>\n    <tr>\n      <th>133</th>\n      <td>Africa</td>\n      <td>NaN</td>\n      <td>2016</td>\n      <td>4680</td>\n    </tr>\n    <tr>\n      <th>206</th>\n      <td>Albania</td>\n      <td>ALB</td>\n      <td>2016</td>\n      <td>11285</td>\n    </tr>\n    <tr>\n      <th>253</th>\n      <td>Algeria</td>\n      <td>DZA</td>\n      <td>2016</td>\n      <td>13328</td>\n    </tr>\n    <tr>\n      <th>295</th>\n      <td>Angola</td>\n      <td>AGO</td>\n      <td>2016</td>\n      <td>8397</td>\n    </tr>\n    <tr>\n      <th>...</th>\n      <td>...</td>\n      <td>...</td>\n      <td>...</td>\n      <td>...</td>\n    </tr>\n    <tr>\n      <th>17929</th>\n      <td>Western Offshoots</td>\n      <td>NaN</td>\n      <td>2016</td>\n      <td>51342</td>\n    </tr>\n    <tr>\n      <th>18000</th>\n      <td>World</td>\n      <td>OWID_WRL</td>\n      <td>2016</td>\n      <td>14574</td>\n    </tr>\n    <tr>\n      <th>18067</th>\n      <td>Yemen</td>\n      <td>YEM</td>\n      <td>2016</td>\n      <td>2199</td>\n    </tr>\n    <tr>\n      <th>18134</th>\n      <td>Zambia</td>\n      <td>ZMB</td>\n      <td>2016</td>\n      <td>3538</td>\n    </tr>\n    <tr>\n      <th>18201</th>\n      <td>Zimbabwe</td>\n      <td>ZWE</td>\n      <td>2016</td>\n      <td>1729</td>\n    </tr>\n  </tbody>\n</table>\n<p>174 rows × 4 columns</p>\n</div>"
     },
     "metadata": {},
     "execution_count": 88
    }
   ],
   "source": [
    "gdp = pd.read_csv('../data/average-real-gdp-per-capita-across-countries-and-regions.csv')\n",
    "\n",
    "gdp = gdp.rename(columns={'GDP per capita (int.-$) ($)': 'GDP'})\n",
    "\n",
    "gdp = gdp.loc[gdp['Year'] == 2016]\n",
    "\n",
    "gdp"
   ]
  },
  {
   "cell_type": "code",
   "execution_count": 89,
   "metadata": {},
   "outputs": [],
   "source": [
    "data = pd.merge(gdp, natural_resource, on='Entity', how='left')\n",
    "\n",
    "data = data.dropna()\n",
    "\n",
    "data = data.drop(170)\n",
    "\n",
    "data = data.drop(['Code_y', 'Year_y'], axis=1)\n",
    "\n",
    "data = data.rename(columns={'Entity': 'Country', 'Code_x': 'Code', 'Year_x': 'Year'})"
   ]
  },
  {
   "cell_type": "code",
   "execution_count": 90,
   "metadata": {},
   "outputs": [],
   "source": [
    "data.to_sql('natural_resources_gdp', engine, if_exists='replace', index=False)"
   ]
  },
  {
   "cell_type": "markdown",
   "metadata": {},
   "source": [
    "# UK GDP"
   ]
  },
  {
   "cell_type": "code",
   "execution_count": 91,
   "metadata": {},
   "outputs": [],
   "source": [
    "data = pd.read_csv('../data/GDP-per-capita-in-the-uk-since-1270.csv')"
   ]
  },
  {
   "cell_type": "code",
   "execution_count": 92,
   "metadata": {},
   "outputs": [],
   "source": [
    "data = data.rename(columns={'Real GDP per capita  (£)': 'GDP'})"
   ]
  },
  {
   "cell_type": "code",
   "execution_count": 93,
   "metadata": {},
   "outputs": [],
   "source": [
    "data.to_sql('uk_gdp', engine, if_exists='replace', index=False)"
   ]
  },
  {
   "cell_type": "markdown",
   "metadata": {},
   "source": [
    "# World GDP"
   ]
  },
  {
   "cell_type": "code",
   "execution_count": 94,
   "metadata": {},
   "outputs": [],
   "source": [
    "data = pd.read_csv('../data/world-gdp-over-the-last-two-millennia.csv')"
   ]
  },
  {
   "cell_type": "code",
   "execution_count": 95,
   "metadata": {},
   "outputs": [],
   "source": [
    "data = data.rename(columns={' (int.-$)': 'GDP'})"
   ]
  },
  {
   "cell_type": "code",
   "execution_count": 96,
   "metadata": {},
   "outputs": [],
   "source": [
    "data.to_sql('world_gdp', engine, if_exists='replace', index=False)"
   ]
  }
 ],
 "metadata": {
  "kernelspec": {
   "display_name": "Python 3.8.3 64-bit",
   "name": "python_defaultSpec_1598956860176"
  },
  "language_info": {
   "codemirror_mode": {
    "name": "ipython",
    "version": 3
   },
   "file_extension": ".py",
   "mimetype": "text/x-python",
   "name": "python",
   "nbconvert_exporter": "python",
   "pygments_lexer": "ipython3",
   "version": "3.8.3-final"
  },
  "orig_nbformat": 2
 },
 "nbformat": 4,
 "nbformat_minor": 2
}