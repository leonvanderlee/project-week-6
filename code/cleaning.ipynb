{
 "cells": [
  {
   "cell_type": "markdown",
   "metadata": {},
   "source": [
    "# Import"
   ]
  },
  {
   "cell_type": "code",
   "execution_count": 27,
   "metadata": {},
   "outputs": [],
   "source": [
    "import pandas as pd\n",
    "\n",
    "import pymysql\n",
    "from sqlalchemy import create_engine"
   ]
  },
  {
   "cell_type": "markdown",
   "metadata": {},
   "source": [
    "# Engine SQL"
   ]
  },
  {
   "cell_type": "code",
   "execution_count": 28,
   "metadata": {},
   "outputs": [],
   "source": [
    "engine = create_engine('mysql+pymysql://root@localhost/project-week-6')"
   ]
  },
  {
   "cell_type": "markdown",
   "metadata": {},
   "source": [
    "# Average GDP Per Capita"
   ]
  },
  {
   "cell_type": "code",
   "execution_count": 29,
   "metadata": {},
   "outputs": [],
   "source": [
    "data = pd.read_csv('../data/average-real-gdp-per-capita-across-countries-and-regions.csv')"
   ]
  },
  {
   "cell_type": "code",
   "execution_count": 30,
   "metadata": {},
   "outputs": [
    {
     "output_type": "execute_result",
     "data": {
      "text/plain": "            Entity Code  Year   GDP\n0      Afghanistan  AFG  1950  2392\n1      Afghanistan  AFG  1951  2422\n2      Afghanistan  AFG  1952  2462\n3      Afghanistan  AFG  1953  2568\n4      Afghanistan  AFG  1954  2576\n...            ...  ...   ...   ...\n18197     Zimbabwe  ZWE  2012  1623\n18198     Zimbabwe  ZWE  2013  1801\n18199     Zimbabwe  ZWE  2014  1797\n18200     Zimbabwe  ZWE  2015  1759\n18201     Zimbabwe  ZWE  2016  1729\n\n[18202 rows x 4 columns]",
      "text/html": "<div>\n<style scoped>\n    .dataframe tbody tr th:only-of-type {\n        vertical-align: middle;\n    }\n\n    .dataframe tbody tr th {\n        vertical-align: top;\n    }\n\n    .dataframe thead th {\n        text-align: right;\n    }\n</style>\n<table border=\"1\" class=\"dataframe\">\n  <thead>\n    <tr style=\"text-align: right;\">\n      <th></th>\n      <th>Entity</th>\n      <th>Code</th>\n      <th>Year</th>\n      <th>GDP</th>\n    </tr>\n  </thead>\n  <tbody>\n    <tr>\n      <th>0</th>\n      <td>Afghanistan</td>\n      <td>AFG</td>\n      <td>1950</td>\n      <td>2392</td>\n    </tr>\n    <tr>\n      <th>1</th>\n      <td>Afghanistan</td>\n      <td>AFG</td>\n      <td>1951</td>\n      <td>2422</td>\n    </tr>\n    <tr>\n      <th>2</th>\n      <td>Afghanistan</td>\n      <td>AFG</td>\n      <td>1952</td>\n      <td>2462</td>\n    </tr>\n    <tr>\n      <th>3</th>\n      <td>Afghanistan</td>\n      <td>AFG</td>\n      <td>1953</td>\n      <td>2568</td>\n    </tr>\n    <tr>\n      <th>4</th>\n      <td>Afghanistan</td>\n      <td>AFG</td>\n      <td>1954</td>\n      <td>2576</td>\n    </tr>\n    <tr>\n      <th>...</th>\n      <td>...</td>\n      <td>...</td>\n      <td>...</td>\n      <td>...</td>\n    </tr>\n    <tr>\n      <th>18197</th>\n      <td>Zimbabwe</td>\n      <td>ZWE</td>\n      <td>2012</td>\n      <td>1623</td>\n    </tr>\n    <tr>\n      <th>18198</th>\n      <td>Zimbabwe</td>\n      <td>ZWE</td>\n      <td>2013</td>\n      <td>1801</td>\n    </tr>\n    <tr>\n      <th>18199</th>\n      <td>Zimbabwe</td>\n      <td>ZWE</td>\n      <td>2014</td>\n      <td>1797</td>\n    </tr>\n    <tr>\n      <th>18200</th>\n      <td>Zimbabwe</td>\n      <td>ZWE</td>\n      <td>2015</td>\n      <td>1759</td>\n    </tr>\n    <tr>\n      <th>18201</th>\n      <td>Zimbabwe</td>\n      <td>ZWE</td>\n      <td>2016</td>\n      <td>1729</td>\n    </tr>\n  </tbody>\n</table>\n<p>18202 rows × 4 columns</p>\n</div>"
     },
     "metadata": {},
     "execution_count": 30
    }
   ],
   "source": [
    "data = data.rename(columns={'GDP per capita (int.-$) ($)': 'GDP'})\n",
    "\n",
    "data"
   ]
  },
  {
   "cell_type": "code",
   "execution_count": 31,
   "metadata": {},
   "outputs": [],
   "source": [
    "data.to_sql('average_gdp_per_capita', engine, if_exists='replace', index=False)"
   ]
  },
  {
   "cell_type": "markdown",
   "metadata": {},
   "source": [
    "# Gross Domestic Product"
   ]
  },
  {
   "cell_type": "code",
   "execution_count": 32,
   "metadata": {},
   "outputs": [],
   "source": [
    "data = pd.read_csv('../data/gross-domestic-product.csv')"
   ]
  },
  {
   "cell_type": "code",
   "execution_count": 33,
   "metadata": {},
   "outputs": [
    {
     "output_type": "execute_result",
     "data": {
      "text/plain": "            Entity Code  Year     GDP Total\n0      Afghanistan  AFG  2002  8.013233e+09\n1      Afghanistan  AFG  2003  8.689884e+09\n2      Afghanistan  AFG  2004  8.781610e+09\n3      Afghanistan  AFG  2005  9.762979e+09\n4      Afghanistan  AFG  2006  1.030523e+10\n...            ...  ...   ...           ...\n11251     Zimbabwe  ZWE  2013  1.418193e+10\n11252     Zimbabwe  ZWE  2014  1.448359e+10\n11253     Zimbabwe  ZWE  2015  1.472830e+10\n11254     Zimbabwe  ZWE  2016  1.481899e+10\n11255     Zimbabwe  ZWE  2017  1.532981e+10\n\n[8959 rows x 4 columns]",
      "text/html": "<div>\n<style scoped>\n    .dataframe tbody tr th:only-of-type {\n        vertical-align: middle;\n    }\n\n    .dataframe tbody tr th {\n        vertical-align: top;\n    }\n\n    .dataframe thead th {\n        text-align: right;\n    }\n</style>\n<table border=\"1\" class=\"dataframe\">\n  <thead>\n    <tr style=\"text-align: right;\">\n      <th></th>\n      <th>Entity</th>\n      <th>Code</th>\n      <th>Year</th>\n      <th>GDP Total</th>\n    </tr>\n  </thead>\n  <tbody>\n    <tr>\n      <th>0</th>\n      <td>Afghanistan</td>\n      <td>AFG</td>\n      <td>2002</td>\n      <td>8.013233e+09</td>\n    </tr>\n    <tr>\n      <th>1</th>\n      <td>Afghanistan</td>\n      <td>AFG</td>\n      <td>2003</td>\n      <td>8.689884e+09</td>\n    </tr>\n    <tr>\n      <th>2</th>\n      <td>Afghanistan</td>\n      <td>AFG</td>\n      <td>2004</td>\n      <td>8.781610e+09</td>\n    </tr>\n    <tr>\n      <th>3</th>\n      <td>Afghanistan</td>\n      <td>AFG</td>\n      <td>2005</td>\n      <td>9.762979e+09</td>\n    </tr>\n    <tr>\n      <th>4</th>\n      <td>Afghanistan</td>\n      <td>AFG</td>\n      <td>2006</td>\n      <td>1.030523e+10</td>\n    </tr>\n    <tr>\n      <th>...</th>\n      <td>...</td>\n      <td>...</td>\n      <td>...</td>\n      <td>...</td>\n    </tr>\n    <tr>\n      <th>11251</th>\n      <td>Zimbabwe</td>\n      <td>ZWE</td>\n      <td>2013</td>\n      <td>1.418193e+10</td>\n    </tr>\n    <tr>\n      <th>11252</th>\n      <td>Zimbabwe</td>\n      <td>ZWE</td>\n      <td>2014</td>\n      <td>1.448359e+10</td>\n    </tr>\n    <tr>\n      <th>11253</th>\n      <td>Zimbabwe</td>\n      <td>ZWE</td>\n      <td>2015</td>\n      <td>1.472830e+10</td>\n    </tr>\n    <tr>\n      <th>11254</th>\n      <td>Zimbabwe</td>\n      <td>ZWE</td>\n      <td>2016</td>\n      <td>1.481899e+10</td>\n    </tr>\n    <tr>\n      <th>11255</th>\n      <td>Zimbabwe</td>\n      <td>ZWE</td>\n      <td>2017</td>\n      <td>1.532981e+10</td>\n    </tr>\n  </tbody>\n</table>\n<p>8959 rows × 4 columns</p>\n</div>"
     },
     "metadata": {},
     "execution_count": 33
    }
   ],
   "source": [
    "data = data.rename(columns={'GDP (constant 2010 US$) (constant 2010 US$)': 'GDP Total'})\n",
    "\n",
    "data = data.dropna()\n",
    "\n",
    "data"
   ]
  },
  {
   "cell_type": "code",
   "execution_count": 34,
   "metadata": {},
   "outputs": [],
   "source": [
    "data.to_sql('gross_domestic_product', engine, if_exists='replace', index=False)"
   ]
  },
  {
   "cell_type": "markdown",
   "metadata": {},
   "source": [
    "# Landlocked Countries"
   ]
  },
  {
   "cell_type": "code",
   "execution_count": 35,
   "metadata": {},
   "outputs": [
    {
     "output_type": "execute_result",
     "data": {
      "text/plain": "                     Country     pop2020  Landlocked\n0                   Ethiopia  114963.588           1\n1                     Uganda   45741.007           1\n2                Afghanistan   38928.346           1\n3                 Uzbekistan   33469.203           1\n4                      Nepal   29136.808           1\n5                      Niger   24206.644           1\n6               Burkina Faso   20903.273           1\n7                       Mali   20250.833           1\n8                     Malawi   19129.952           1\n9                 Kazakhstan   18776.707           1\n10                    Zambia   18383.955           1\n11                      Chad   16425.864           1\n12                  Zimbabwe   14862.924           1\n13                    Rwanda   12952.218           1\n14                   Burundi   11890.784           1\n15                   Bolivia   11673.021           1\n16               South Sudan   11193.725           1\n17            Czech Republic   10708.981           1\n18                Azerbaijan   10139.177           1\n19                   Hungary    9660.351           1\n20                Tajikistan    9537.645           1\n21                   Belarus    9449.323           1\n22                   Austria    9006.398           1\n23                    Serbia    8737.371           1\n24               Switzerland    8654.622           1\n25                      Laos    7275.560           1\n26                  Paraguay    7132.538           1\n27                Kyrgyzstan    6524.195           1\n28              Turkmenistan    6031.200           1\n29                  Slovakia    5459.642           1\n30  Central African Republic    4829.767           1\n31                   Moldova    4033.963           1\n32                  Mongolia    3278.290           1\n33                   Armenia    2963.243           1\n34                  Botswana    2351.627           1\n35                   Lesotho    2142.249           1\n36                 Macedonia    2083.374           1\n37                 Swaziland    1160.164           1\n38                    Bhutan     771.608           1\n39                Luxembourg     625.978           1\n40                   Andorra      77.265           1\n41             Liechtenstein      38.128           1\n42                San Marino      33.931           1\n43              Vatican City       0.801           1",
      "text/html": "<div>\n<style scoped>\n    .dataframe tbody tr th:only-of-type {\n        vertical-align: middle;\n    }\n\n    .dataframe tbody tr th {\n        vertical-align: top;\n    }\n\n    .dataframe thead th {\n        text-align: right;\n    }\n</style>\n<table border=\"1\" class=\"dataframe\">\n  <thead>\n    <tr style=\"text-align: right;\">\n      <th></th>\n      <th>Country</th>\n      <th>pop2020</th>\n      <th>Landlocked</th>\n    </tr>\n  </thead>\n  <tbody>\n    <tr>\n      <th>0</th>\n      <td>Ethiopia</td>\n      <td>114963.588</td>\n      <td>1</td>\n    </tr>\n    <tr>\n      <th>1</th>\n      <td>Uganda</td>\n      <td>45741.007</td>\n      <td>1</td>\n    </tr>\n    <tr>\n      <th>2</th>\n      <td>Afghanistan</td>\n      <td>38928.346</td>\n      <td>1</td>\n    </tr>\n    <tr>\n      <th>3</th>\n      <td>Uzbekistan</td>\n      <td>33469.203</td>\n      <td>1</td>\n    </tr>\n    <tr>\n      <th>4</th>\n      <td>Nepal</td>\n      <td>29136.808</td>\n      <td>1</td>\n    </tr>\n    <tr>\n      <th>5</th>\n      <td>Niger</td>\n      <td>24206.644</td>\n      <td>1</td>\n    </tr>\n    <tr>\n      <th>6</th>\n      <td>Burkina Faso</td>\n      <td>20903.273</td>\n      <td>1</td>\n    </tr>\n    <tr>\n      <th>7</th>\n      <td>Mali</td>\n      <td>20250.833</td>\n      <td>1</td>\n    </tr>\n    <tr>\n      <th>8</th>\n      <td>Malawi</td>\n      <td>19129.952</td>\n      <td>1</td>\n    </tr>\n    <tr>\n      <th>9</th>\n      <td>Kazakhstan</td>\n      <td>18776.707</td>\n      <td>1</td>\n    </tr>\n    <tr>\n      <th>10</th>\n      <td>Zambia</td>\n      <td>18383.955</td>\n      <td>1</td>\n    </tr>\n    <tr>\n      <th>11</th>\n      <td>Chad</td>\n      <td>16425.864</td>\n      <td>1</td>\n    </tr>\n    <tr>\n      <th>12</th>\n      <td>Zimbabwe</td>\n      <td>14862.924</td>\n      <td>1</td>\n    </tr>\n    <tr>\n      <th>13</th>\n      <td>Rwanda</td>\n      <td>12952.218</td>\n      <td>1</td>\n    </tr>\n    <tr>\n      <th>14</th>\n      <td>Burundi</td>\n      <td>11890.784</td>\n      <td>1</td>\n    </tr>\n    <tr>\n      <th>15</th>\n      <td>Bolivia</td>\n      <td>11673.021</td>\n      <td>1</td>\n    </tr>\n    <tr>\n      <th>16</th>\n      <td>South Sudan</td>\n      <td>11193.725</td>\n      <td>1</td>\n    </tr>\n    <tr>\n      <th>17</th>\n      <td>Czech Republic</td>\n      <td>10708.981</td>\n      <td>1</td>\n    </tr>\n    <tr>\n      <th>18</th>\n      <td>Azerbaijan</td>\n      <td>10139.177</td>\n      <td>1</td>\n    </tr>\n    <tr>\n      <th>19</th>\n      <td>Hungary</td>\n      <td>9660.351</td>\n      <td>1</td>\n    </tr>\n    <tr>\n      <th>20</th>\n      <td>Tajikistan</td>\n      <td>9537.645</td>\n      <td>1</td>\n    </tr>\n    <tr>\n      <th>21</th>\n      <td>Belarus</td>\n      <td>9449.323</td>\n      <td>1</td>\n    </tr>\n    <tr>\n      <th>22</th>\n      <td>Austria</td>\n      <td>9006.398</td>\n      <td>1</td>\n    </tr>\n    <tr>\n      <th>23</th>\n      <td>Serbia</td>\n      <td>8737.371</td>\n      <td>1</td>\n    </tr>\n    <tr>\n      <th>24</th>\n      <td>Switzerland</td>\n      <td>8654.622</td>\n      <td>1</td>\n    </tr>\n    <tr>\n      <th>25</th>\n      <td>Laos</td>\n      <td>7275.560</td>\n      <td>1</td>\n    </tr>\n    <tr>\n      <th>26</th>\n      <td>Paraguay</td>\n      <td>7132.538</td>\n      <td>1</td>\n    </tr>\n    <tr>\n      <th>27</th>\n      <td>Kyrgyzstan</td>\n      <td>6524.195</td>\n      <td>1</td>\n    </tr>\n    <tr>\n      <th>28</th>\n      <td>Turkmenistan</td>\n      <td>6031.200</td>\n      <td>1</td>\n    </tr>\n    <tr>\n      <th>29</th>\n      <td>Slovakia</td>\n      <td>5459.642</td>\n      <td>1</td>\n    </tr>\n    <tr>\n      <th>30</th>\n      <td>Central African Republic</td>\n      <td>4829.767</td>\n      <td>1</td>\n    </tr>\n    <tr>\n      <th>31</th>\n      <td>Moldova</td>\n      <td>4033.963</td>\n      <td>1</td>\n    </tr>\n    <tr>\n      <th>32</th>\n      <td>Mongolia</td>\n      <td>3278.290</td>\n      <td>1</td>\n    </tr>\n    <tr>\n      <th>33</th>\n      <td>Armenia</td>\n      <td>2963.243</td>\n      <td>1</td>\n    </tr>\n    <tr>\n      <th>34</th>\n      <td>Botswana</td>\n      <td>2351.627</td>\n      <td>1</td>\n    </tr>\n    <tr>\n      <th>35</th>\n      <td>Lesotho</td>\n      <td>2142.249</td>\n      <td>1</td>\n    </tr>\n    <tr>\n      <th>36</th>\n      <td>Macedonia</td>\n      <td>2083.374</td>\n      <td>1</td>\n    </tr>\n    <tr>\n      <th>37</th>\n      <td>Swaziland</td>\n      <td>1160.164</td>\n      <td>1</td>\n    </tr>\n    <tr>\n      <th>38</th>\n      <td>Bhutan</td>\n      <td>771.608</td>\n      <td>1</td>\n    </tr>\n    <tr>\n      <th>39</th>\n      <td>Luxembourg</td>\n      <td>625.978</td>\n      <td>1</td>\n    </tr>\n    <tr>\n      <th>40</th>\n      <td>Andorra</td>\n      <td>77.265</td>\n      <td>1</td>\n    </tr>\n    <tr>\n      <th>41</th>\n      <td>Liechtenstein</td>\n      <td>38.128</td>\n      <td>1</td>\n    </tr>\n    <tr>\n      <th>42</th>\n      <td>San Marino</td>\n      <td>33.931</td>\n      <td>1</td>\n    </tr>\n    <tr>\n      <th>43</th>\n      <td>Vatican City</td>\n      <td>0.801</td>\n      <td>1</td>\n    </tr>\n  </tbody>\n</table>\n</div>"
     },
     "metadata": {},
     "execution_count": 35
    }
   ],
   "source": [
    "landlocked = pd.read_csv('../data/landlocked_countries 2020.csv')\n",
    "\n",
    "landlocked = landlocked.rename(columns={'country': 'Country'})\n",
    "\n",
    "landlocked['Landlocked'] = '1'\n",
    "\n",
    "landlocked[\"Landlocked\"] = landlocked[\"Landlocked\"].astype(str).astype(int)\n",
    "\n",
    "landlocked"
   ]
  },
  {
   "cell_type": "code",
   "execution_count": 36,
   "metadata": {},
   "outputs": [
    {
     "output_type": "execute_result",
     "data": {
      "text/plain": "           Country Code  Year    GDP\n66     Afghanistan  AFG  2016   1929\n206        Albania  ALB  2016  11285\n253        Algeria  DZA  2016  13328\n295         Angola  AGO  2016   8397\n442      Argentina  ARG  2016  18695\n...            ...  ...   ...    ...\n17498    Venezuela  VEN  2016  13159\n17568      Vietnam  VNM  2016   6031\n18067        Yemen  YEM  2016   2199\n18134       Zambia  ZMB  2016   3538\n18201     Zimbabwe  ZWE  2016   1729\n\n[164 rows x 4 columns]",
      "text/html": "<div>\n<style scoped>\n    .dataframe tbody tr th:only-of-type {\n        vertical-align: middle;\n    }\n\n    .dataframe tbody tr th {\n        vertical-align: top;\n    }\n\n    .dataframe thead th {\n        text-align: right;\n    }\n</style>\n<table border=\"1\" class=\"dataframe\">\n  <thead>\n    <tr style=\"text-align: right;\">\n      <th></th>\n      <th>Country</th>\n      <th>Code</th>\n      <th>Year</th>\n      <th>GDP</th>\n    </tr>\n  </thead>\n  <tbody>\n    <tr>\n      <th>66</th>\n      <td>Afghanistan</td>\n      <td>AFG</td>\n      <td>2016</td>\n      <td>1929</td>\n    </tr>\n    <tr>\n      <th>206</th>\n      <td>Albania</td>\n      <td>ALB</td>\n      <td>2016</td>\n      <td>11285</td>\n    </tr>\n    <tr>\n      <th>253</th>\n      <td>Algeria</td>\n      <td>DZA</td>\n      <td>2016</td>\n      <td>13328</td>\n    </tr>\n    <tr>\n      <th>295</th>\n      <td>Angola</td>\n      <td>AGO</td>\n      <td>2016</td>\n      <td>8397</td>\n    </tr>\n    <tr>\n      <th>442</th>\n      <td>Argentina</td>\n      <td>ARG</td>\n      <td>2016</td>\n      <td>18695</td>\n    </tr>\n    <tr>\n      <th>...</th>\n      <td>...</td>\n      <td>...</td>\n      <td>...</td>\n      <td>...</td>\n    </tr>\n    <tr>\n      <th>17498</th>\n      <td>Venezuela</td>\n      <td>VEN</td>\n      <td>2016</td>\n      <td>13159</td>\n    </tr>\n    <tr>\n      <th>17568</th>\n      <td>Vietnam</td>\n      <td>VNM</td>\n      <td>2016</td>\n      <td>6031</td>\n    </tr>\n    <tr>\n      <th>18067</th>\n      <td>Yemen</td>\n      <td>YEM</td>\n      <td>2016</td>\n      <td>2199</td>\n    </tr>\n    <tr>\n      <th>18134</th>\n      <td>Zambia</td>\n      <td>ZMB</td>\n      <td>2016</td>\n      <td>3538</td>\n    </tr>\n    <tr>\n      <th>18201</th>\n      <td>Zimbabwe</td>\n      <td>ZWE</td>\n      <td>2016</td>\n      <td>1729</td>\n    </tr>\n  </tbody>\n</table>\n<p>164 rows × 4 columns</p>\n</div>"
     },
     "metadata": {},
     "execution_count": 36
    }
   ],
   "source": [
    "year2016_data_countries = pd.read_csv('../data/average-real-gdp-per-capita-across-countries-and-regions.csv')\n",
    "\n",
    "year2016_data_countries = year2016_data_countries.loc[year2016_data_countries['Year'] == 2016]\n",
    "\n",
    "year2016_data_countries = year2016_data_countries.dropna()\n",
    "\n",
    "year2016_data_countries = year2016_data_countries.drop(18000)\n",
    "\n",
    "year2016_data_countries = year2016_data_countries.rename(columns={'GDP per capita (int.-$) ($)': 'GDP', 'Entity': 'Country'})\n",
    "\n",
    "year2016_data_countries"
   ]
  },
  {
   "cell_type": "code",
   "execution_count": 37,
   "metadata": {},
   "outputs": [
    {
     "output_type": "execute_result",
     "data": {
      "text/plain": "         Country Code    GDP  Landlocked\n0    Afghanistan  AFG   1929         1.0\n1        Albania  ALB  11285         0.0\n2        Algeria  DZA  13328         0.0\n3         Angola  AGO   8397         0.0\n4      Argentina  ARG  18695         0.0\n..           ...  ...    ...         ...\n159    Venezuela  VEN  13159         0.0\n160      Vietnam  VNM   6031         0.0\n161        Yemen  YEM   2199         0.0\n162       Zambia  ZMB   3538         1.0\n163     Zimbabwe  ZWE   1729         1.0\n\n[164 rows x 4 columns]",
      "text/html": "<div>\n<style scoped>\n    .dataframe tbody tr th:only-of-type {\n        vertical-align: middle;\n    }\n\n    .dataframe tbody tr th {\n        vertical-align: top;\n    }\n\n    .dataframe thead th {\n        text-align: right;\n    }\n</style>\n<table border=\"1\" class=\"dataframe\">\n  <thead>\n    <tr style=\"text-align: right;\">\n      <th></th>\n      <th>Country</th>\n      <th>Code</th>\n      <th>GDP</th>\n      <th>Landlocked</th>\n    </tr>\n  </thead>\n  <tbody>\n    <tr>\n      <th>0</th>\n      <td>Afghanistan</td>\n      <td>AFG</td>\n      <td>1929</td>\n      <td>1.0</td>\n    </tr>\n    <tr>\n      <th>1</th>\n      <td>Albania</td>\n      <td>ALB</td>\n      <td>11285</td>\n      <td>0.0</td>\n    </tr>\n    <tr>\n      <th>2</th>\n      <td>Algeria</td>\n      <td>DZA</td>\n      <td>13328</td>\n      <td>0.0</td>\n    </tr>\n    <tr>\n      <th>3</th>\n      <td>Angola</td>\n      <td>AGO</td>\n      <td>8397</td>\n      <td>0.0</td>\n    </tr>\n    <tr>\n      <th>4</th>\n      <td>Argentina</td>\n      <td>ARG</td>\n      <td>18695</td>\n      <td>0.0</td>\n    </tr>\n    <tr>\n      <th>...</th>\n      <td>...</td>\n      <td>...</td>\n      <td>...</td>\n      <td>...</td>\n    </tr>\n    <tr>\n      <th>159</th>\n      <td>Venezuela</td>\n      <td>VEN</td>\n      <td>13159</td>\n      <td>0.0</td>\n    </tr>\n    <tr>\n      <th>160</th>\n      <td>Vietnam</td>\n      <td>VNM</td>\n      <td>6031</td>\n      <td>0.0</td>\n    </tr>\n    <tr>\n      <th>161</th>\n      <td>Yemen</td>\n      <td>YEM</td>\n      <td>2199</td>\n      <td>0.0</td>\n    </tr>\n    <tr>\n      <th>162</th>\n      <td>Zambia</td>\n      <td>ZMB</td>\n      <td>3538</td>\n      <td>1.0</td>\n    </tr>\n    <tr>\n      <th>163</th>\n      <td>Zimbabwe</td>\n      <td>ZWE</td>\n      <td>1729</td>\n      <td>1.0</td>\n    </tr>\n  </tbody>\n</table>\n<p>164 rows × 4 columns</p>\n</div>"
     },
     "metadata": {},
     "execution_count": 37
    }
   ],
   "source": [
    "data = pd.merge(year2016_data_countries, landlocked, on='Country', how='left')\n",
    "\n",
    "data['Landlocked'] = data['Landlocked'].fillna(0)\n",
    "\n",
    "data = data.drop(['pop2020', 'Year'], axis=1)\n",
    "\n",
    "data"
   ]
  },
  {
   "cell_type": "code",
   "execution_count": 38,
   "metadata": {},
   "outputs": [],
   "source": [
    "data.to_sql('landlocked_countries', engine, if_exists='replace', index=False)"
   ]
  },
  {
   "cell_type": "markdown",
   "metadata": {},
   "source": [
    "# Natural resources rents"
   ]
  },
  {
   "cell_type": "code",
   "execution_count": 39,
   "metadata": {},
   "outputs": [
    {
     "output_type": "execute_result",
     "data": {
      "text/plain": "               Entity      Code  Year  Natural resources of GDP\n27        Afghanistan       AFG  2016                  0.598008\n60            Albania       ALB  2016                  1.973313\n107           Algeria       DZA  2016                 13.631655\n122    American Samoa       ASM  2016                  0.000000\n169           Andorra       AND  2016                  0.000000\n...               ...       ...   ...                       ...\n10080         Vietnam       VNM  2016                  2.301114\n10127           World  OWID_WRL  2016                  1.894270\n10154           Yemen       YEM  2016                  0.982571\n10201          Zambia       ZMB  2016                 15.133440\n10248        Zimbabwe       ZWE  2016                  8.754979\n\n[237 rows x 4 columns]",
      "text/html": "<div>\n<style scoped>\n    .dataframe tbody tr th:only-of-type {\n        vertical-align: middle;\n    }\n\n    .dataframe tbody tr th {\n        vertical-align: top;\n    }\n\n    .dataframe thead th {\n        text-align: right;\n    }\n</style>\n<table border=\"1\" class=\"dataframe\">\n  <thead>\n    <tr style=\"text-align: right;\">\n      <th></th>\n      <th>Entity</th>\n      <th>Code</th>\n      <th>Year</th>\n      <th>Natural resources of GDP</th>\n    </tr>\n  </thead>\n  <tbody>\n    <tr>\n      <th>27</th>\n      <td>Afghanistan</td>\n      <td>AFG</td>\n      <td>2016</td>\n      <td>0.598008</td>\n    </tr>\n    <tr>\n      <th>60</th>\n      <td>Albania</td>\n      <td>ALB</td>\n      <td>2016</td>\n      <td>1.973313</td>\n    </tr>\n    <tr>\n      <th>107</th>\n      <td>Algeria</td>\n      <td>DZA</td>\n      <td>2016</td>\n      <td>13.631655</td>\n    </tr>\n    <tr>\n      <th>122</th>\n      <td>American Samoa</td>\n      <td>ASM</td>\n      <td>2016</td>\n      <td>0.000000</td>\n    </tr>\n    <tr>\n      <th>169</th>\n      <td>Andorra</td>\n      <td>AND</td>\n      <td>2016</td>\n      <td>0.000000</td>\n    </tr>\n    <tr>\n      <th>...</th>\n      <td>...</td>\n      <td>...</td>\n      <td>...</td>\n      <td>...</td>\n    </tr>\n    <tr>\n      <th>10080</th>\n      <td>Vietnam</td>\n      <td>VNM</td>\n      <td>2016</td>\n      <td>2.301114</td>\n    </tr>\n    <tr>\n      <th>10127</th>\n      <td>World</td>\n      <td>OWID_WRL</td>\n      <td>2016</td>\n      <td>1.894270</td>\n    </tr>\n    <tr>\n      <th>10154</th>\n      <td>Yemen</td>\n      <td>YEM</td>\n      <td>2016</td>\n      <td>0.982571</td>\n    </tr>\n    <tr>\n      <th>10201</th>\n      <td>Zambia</td>\n      <td>ZMB</td>\n      <td>2016</td>\n      <td>15.133440</td>\n    </tr>\n    <tr>\n      <th>10248</th>\n      <td>Zimbabwe</td>\n      <td>ZWE</td>\n      <td>2016</td>\n      <td>8.754979</td>\n    </tr>\n  </tbody>\n</table>\n<p>237 rows × 4 columns</p>\n</div>"
     },
     "metadata": {},
     "execution_count": 39
    }
   ],
   "source": [
    "natural_resource = pd.read_csv('../data/natural-resource-rents.csv')\n",
    "\n",
    "natural_resource = natural_resource.rename(columns={'Total natural resources rents (% of GDP) (% of GDP)': 'Natural resources of GDP'})\n",
    "\n",
    "natural_resource = natural_resource.loc[natural_resource['Year'] == 2016]\n",
    "\n",
    "natural_resource"
   ]
  },
  {
   "cell_type": "code",
   "execution_count": 40,
   "metadata": {},
   "outputs": [
    {
     "output_type": "execute_result",
     "data": {
      "text/plain": "                  Entity      Code  Year    GDP\n66           Afghanistan       AFG  2016   1929\n133               Africa       NaN  2016   4680\n206              Albania       ALB  2016  11285\n253              Algeria       DZA  2016  13328\n295               Angola       AGO  2016   8397\n...                  ...       ...   ...    ...\n17929  Western Offshoots       NaN  2016  51342\n18000              World  OWID_WRL  2016  14574\n18067              Yemen       YEM  2016   2199\n18134             Zambia       ZMB  2016   3538\n18201           Zimbabwe       ZWE  2016   1729\n\n[174 rows x 4 columns]",
      "text/html": "<div>\n<style scoped>\n    .dataframe tbody tr th:only-of-type {\n        vertical-align: middle;\n    }\n\n    .dataframe tbody tr th {\n        vertical-align: top;\n    }\n\n    .dataframe thead th {\n        text-align: right;\n    }\n</style>\n<table border=\"1\" class=\"dataframe\">\n  <thead>\n    <tr style=\"text-align: right;\">\n      <th></th>\n      <th>Entity</th>\n      <th>Code</th>\n      <th>Year</th>\n      <th>GDP</th>\n    </tr>\n  </thead>\n  <tbody>\n    <tr>\n      <th>66</th>\n      <td>Afghanistan</td>\n      <td>AFG</td>\n      <td>2016</td>\n      <td>1929</td>\n    </tr>\n    <tr>\n      <th>133</th>\n      <td>Africa</td>\n      <td>NaN</td>\n      <td>2016</td>\n      <td>4680</td>\n    </tr>\n    <tr>\n      <th>206</th>\n      <td>Albania</td>\n      <td>ALB</td>\n      <td>2016</td>\n      <td>11285</td>\n    </tr>\n    <tr>\n      <th>253</th>\n      <td>Algeria</td>\n      <td>DZA</td>\n      <td>2016</td>\n      <td>13328</td>\n    </tr>\n    <tr>\n      <th>295</th>\n      <td>Angola</td>\n      <td>AGO</td>\n      <td>2016</td>\n      <td>8397</td>\n    </tr>\n    <tr>\n      <th>...</th>\n      <td>...</td>\n      <td>...</td>\n      <td>...</td>\n      <td>...</td>\n    </tr>\n    <tr>\n      <th>17929</th>\n      <td>Western Offshoots</td>\n      <td>NaN</td>\n      <td>2016</td>\n      <td>51342</td>\n    </tr>\n    <tr>\n      <th>18000</th>\n      <td>World</td>\n      <td>OWID_WRL</td>\n      <td>2016</td>\n      <td>14574</td>\n    </tr>\n    <tr>\n      <th>18067</th>\n      <td>Yemen</td>\n      <td>YEM</td>\n      <td>2016</td>\n      <td>2199</td>\n    </tr>\n    <tr>\n      <th>18134</th>\n      <td>Zambia</td>\n      <td>ZMB</td>\n      <td>2016</td>\n      <td>3538</td>\n    </tr>\n    <tr>\n      <th>18201</th>\n      <td>Zimbabwe</td>\n      <td>ZWE</td>\n      <td>2016</td>\n      <td>1729</td>\n    </tr>\n  </tbody>\n</table>\n<p>174 rows × 4 columns</p>\n</div>"
     },
     "metadata": {},
     "execution_count": 40
    }
   ],
   "source": [
    "gdp = pd.read_csv('../data/average-real-gdp-per-capita-across-countries-and-regions.csv')\n",
    "\n",
    "gdp = gdp.rename(columns={'GDP per capita (int.-$) ($)': 'GDP'})\n",
    "\n",
    "gdp = gdp.loc[gdp['Year'] == 2016]\n",
    "\n",
    "gdp"
   ]
  },
  {
   "cell_type": "code",
   "execution_count": 41,
   "metadata": {},
   "outputs": [
    {
     "output_type": "execute_result",
     "data": {
      "text/plain": "         Country Code  Year    GDP  Natural resources of GDP\n0    Afghanistan  AFG  2016   1929                  0.598008\n2        Albania  ALB  2016  11285                  1.973313\n3        Algeria  DZA  2016  13328                 13.631655\n4         Angola  AGO  2016   8397                 13.217494\n5      Argentina  ARG  2016  18695                  1.302412\n..           ...  ...   ...    ...                       ...\n164   Uzbekistan  UZB  2016   9726                 11.436286\n166      Vietnam  VNM  2016   6031                  2.301114\n171        Yemen  YEM  2016   2199                  0.982571\n172       Zambia  ZMB  2016   3538                 15.133440\n173     Zimbabwe  ZWE  2016   1729                  8.754979\n\n[158 rows x 5 columns]",
      "text/html": "<div>\n<style scoped>\n    .dataframe tbody tr th:only-of-type {\n        vertical-align: middle;\n    }\n\n    .dataframe tbody tr th {\n        vertical-align: top;\n    }\n\n    .dataframe thead th {\n        text-align: right;\n    }\n</style>\n<table border=\"1\" class=\"dataframe\">\n  <thead>\n    <tr style=\"text-align: right;\">\n      <th></th>\n      <th>Country</th>\n      <th>Code</th>\n      <th>Year</th>\n      <th>GDP</th>\n      <th>Natural resources of GDP</th>\n    </tr>\n  </thead>\n  <tbody>\n    <tr>\n      <th>0</th>\n      <td>Afghanistan</td>\n      <td>AFG</td>\n      <td>2016</td>\n      <td>1929</td>\n      <td>0.598008</td>\n    </tr>\n    <tr>\n      <th>2</th>\n      <td>Albania</td>\n      <td>ALB</td>\n      <td>2016</td>\n      <td>11285</td>\n      <td>1.973313</td>\n    </tr>\n    <tr>\n      <th>3</th>\n      <td>Algeria</td>\n      <td>DZA</td>\n      <td>2016</td>\n      <td>13328</td>\n      <td>13.631655</td>\n    </tr>\n    <tr>\n      <th>4</th>\n      <td>Angola</td>\n      <td>AGO</td>\n      <td>2016</td>\n      <td>8397</td>\n      <td>13.217494</td>\n    </tr>\n    <tr>\n      <th>5</th>\n      <td>Argentina</td>\n      <td>ARG</td>\n      <td>2016</td>\n      <td>18695</td>\n      <td>1.302412</td>\n    </tr>\n    <tr>\n      <th>...</th>\n      <td>...</td>\n      <td>...</td>\n      <td>...</td>\n      <td>...</td>\n      <td>...</td>\n    </tr>\n    <tr>\n      <th>164</th>\n      <td>Uzbekistan</td>\n      <td>UZB</td>\n      <td>2016</td>\n      <td>9726</td>\n      <td>11.436286</td>\n    </tr>\n    <tr>\n      <th>166</th>\n      <td>Vietnam</td>\n      <td>VNM</td>\n      <td>2016</td>\n      <td>6031</td>\n      <td>2.301114</td>\n    </tr>\n    <tr>\n      <th>171</th>\n      <td>Yemen</td>\n      <td>YEM</td>\n      <td>2016</td>\n      <td>2199</td>\n      <td>0.982571</td>\n    </tr>\n    <tr>\n      <th>172</th>\n      <td>Zambia</td>\n      <td>ZMB</td>\n      <td>2016</td>\n      <td>3538</td>\n      <td>15.133440</td>\n    </tr>\n    <tr>\n      <th>173</th>\n      <td>Zimbabwe</td>\n      <td>ZWE</td>\n      <td>2016</td>\n      <td>1729</td>\n      <td>8.754979</td>\n    </tr>\n  </tbody>\n</table>\n<p>158 rows × 5 columns</p>\n</div>"
     },
     "metadata": {},
     "execution_count": 41
    }
   ],
   "source": [
    "data = pd.merge(gdp, natural_resource, on='Entity', how='left')\n",
    "\n",
    "data = data.dropna()\n",
    "\n",
    "data = data.drop(170)\n",
    "\n",
    "data = data.drop(['Code_y', 'Year_y'], axis=1)\n",
    "\n",
    "data = data.rename(columns={'Entity': 'Country', 'Code_x': 'Code', 'Year_x': 'Year'})\n",
    "\n",
    "data"
   ]
  },
  {
   "cell_type": "code",
   "execution_count": 42,
   "metadata": {},
   "outputs": [],
   "source": [
    "data.to_sql('natural_resources_gdp', engine, if_exists='replace', index=False)"
   ]
  },
  {
   "cell_type": "markdown",
   "metadata": {},
   "source": [
    "# UK GDP"
   ]
  },
  {
   "cell_type": "code",
   "execution_count": 43,
   "metadata": {},
   "outputs": [],
   "source": [
    "data = pd.read_csv('../data/GDP-per-capita-in-the-uk-since-1270.csv')"
   ]
  },
  {
   "cell_type": "code",
   "execution_count": 44,
   "metadata": {},
   "outputs": [
    {
     "output_type": "execute_result",
     "data": {
      "text/plain": "             Entity Code  Year          GDP\n0    United Kingdom  GBR  1270    805.91998\n1    United Kingdom  GBR  1271    796.29999\n2    United Kingdom  GBR  1272    824.89001\n3    United Kingdom  GBR  1273    776.84998\n4    United Kingdom  GBR  1274    772.75000\n..              ...  ...   ...          ...\n742  United Kingdom  GBR  2012  27206.47100\n743  United Kingdom  GBR  2013  27544.32000\n744  United Kingdom  GBR  2014  28256.80100\n745  United Kingdom  GBR  2015  28692.97100\n746  United Kingdom  GBR  2016  28982.27000\n\n[747 rows x 4 columns]",
      "text/html": "<div>\n<style scoped>\n    .dataframe tbody tr th:only-of-type {\n        vertical-align: middle;\n    }\n\n    .dataframe tbody tr th {\n        vertical-align: top;\n    }\n\n    .dataframe thead th {\n        text-align: right;\n    }\n</style>\n<table border=\"1\" class=\"dataframe\">\n  <thead>\n    <tr style=\"text-align: right;\">\n      <th></th>\n      <th>Entity</th>\n      <th>Code</th>\n      <th>Year</th>\n      <th>GDP</th>\n    </tr>\n  </thead>\n  <tbody>\n    <tr>\n      <th>0</th>\n      <td>United Kingdom</td>\n      <td>GBR</td>\n      <td>1270</td>\n      <td>805.91998</td>\n    </tr>\n    <tr>\n      <th>1</th>\n      <td>United Kingdom</td>\n      <td>GBR</td>\n      <td>1271</td>\n      <td>796.29999</td>\n    </tr>\n    <tr>\n      <th>2</th>\n      <td>United Kingdom</td>\n      <td>GBR</td>\n      <td>1272</td>\n      <td>824.89001</td>\n    </tr>\n    <tr>\n      <th>3</th>\n      <td>United Kingdom</td>\n      <td>GBR</td>\n      <td>1273</td>\n      <td>776.84998</td>\n    </tr>\n    <tr>\n      <th>4</th>\n      <td>United Kingdom</td>\n      <td>GBR</td>\n      <td>1274</td>\n      <td>772.75000</td>\n    </tr>\n    <tr>\n      <th>...</th>\n      <td>...</td>\n      <td>...</td>\n      <td>...</td>\n      <td>...</td>\n    </tr>\n    <tr>\n      <th>742</th>\n      <td>United Kingdom</td>\n      <td>GBR</td>\n      <td>2012</td>\n      <td>27206.47100</td>\n    </tr>\n    <tr>\n      <th>743</th>\n      <td>United Kingdom</td>\n      <td>GBR</td>\n      <td>2013</td>\n      <td>27544.32000</td>\n    </tr>\n    <tr>\n      <th>744</th>\n      <td>United Kingdom</td>\n      <td>GBR</td>\n      <td>2014</td>\n      <td>28256.80100</td>\n    </tr>\n    <tr>\n      <th>745</th>\n      <td>United Kingdom</td>\n      <td>GBR</td>\n      <td>2015</td>\n      <td>28692.97100</td>\n    </tr>\n    <tr>\n      <th>746</th>\n      <td>United Kingdom</td>\n      <td>GBR</td>\n      <td>2016</td>\n      <td>28982.27000</td>\n    </tr>\n  </tbody>\n</table>\n<p>747 rows × 4 columns</p>\n</div>"
     },
     "metadata": {},
     "execution_count": 44
    }
   ],
   "source": [
    "data = data.rename(columns={'Real GDP per capita  (£)': 'GDP'})\n",
    "\n",
    "data"
   ]
  },
  {
   "cell_type": "code",
   "execution_count": 45,
   "metadata": {},
   "outputs": [],
   "source": [
    "data.to_sql('uk_gdp', engine, if_exists='replace', index=False)"
   ]
  },
  {
   "cell_type": "markdown",
   "metadata": {},
   "source": [
    "# World GDP"
   ]
  },
  {
   "cell_type": "code",
   "execution_count": 46,
   "metadata": {},
   "outputs": [],
   "source": [
    "data = pd.read_csv('../data/world-gdp-over-the-last-two-millennia.csv')"
   ]
  },
  {
   "cell_type": "code",
   "execution_count": 47,
   "metadata": {},
   "outputs": [
    {
     "output_type": "execute_result",
     "data": {
      "text/plain": "   Entity      Code  Year           GDP\n0   World  OWID_WRL     1  1.827410e+11\n1   World  OWID_WRL  1000  2.101447e+11\n2   World  OWID_WRL  1500  4.305273e+11\n3   World  OWID_WRL  1600  5.744687e+11\n4   World  OWID_WRL  1700  6.433229e+11\n..    ...       ...   ...           ...\n71  World  OWID_WRL  2011  9.498240e+13\n72  World  OWID_WRL  2012  9.803230e+13\n73  World  OWID_WRL  2013  1.012700e+14\n74  World  OWID_WRL  2014  1.047200e+14\n75  World  OWID_WRL  2015  1.081200e+14\n\n[76 rows x 4 columns]",
      "text/html": "<div>\n<style scoped>\n    .dataframe tbody tr th:only-of-type {\n        vertical-align: middle;\n    }\n\n    .dataframe tbody tr th {\n        vertical-align: top;\n    }\n\n    .dataframe thead th {\n        text-align: right;\n    }\n</style>\n<table border=\"1\" class=\"dataframe\">\n  <thead>\n    <tr style=\"text-align: right;\">\n      <th></th>\n      <th>Entity</th>\n      <th>Code</th>\n      <th>Year</th>\n      <th>GDP</th>\n    </tr>\n  </thead>\n  <tbody>\n    <tr>\n      <th>0</th>\n      <td>World</td>\n      <td>OWID_WRL</td>\n      <td>1</td>\n      <td>1.827410e+11</td>\n    </tr>\n    <tr>\n      <th>1</th>\n      <td>World</td>\n      <td>OWID_WRL</td>\n      <td>1000</td>\n      <td>2.101447e+11</td>\n    </tr>\n    <tr>\n      <th>2</th>\n      <td>World</td>\n      <td>OWID_WRL</td>\n      <td>1500</td>\n      <td>4.305273e+11</td>\n    </tr>\n    <tr>\n      <th>3</th>\n      <td>World</td>\n      <td>OWID_WRL</td>\n      <td>1600</td>\n      <td>5.744687e+11</td>\n    </tr>\n    <tr>\n      <th>4</th>\n      <td>World</td>\n      <td>OWID_WRL</td>\n      <td>1700</td>\n      <td>6.433229e+11</td>\n    </tr>\n    <tr>\n      <th>...</th>\n      <td>...</td>\n      <td>...</td>\n      <td>...</td>\n      <td>...</td>\n    </tr>\n    <tr>\n      <th>71</th>\n      <td>World</td>\n      <td>OWID_WRL</td>\n      <td>2011</td>\n      <td>9.498240e+13</td>\n    </tr>\n    <tr>\n      <th>72</th>\n      <td>World</td>\n      <td>OWID_WRL</td>\n      <td>2012</td>\n      <td>9.803230e+13</td>\n    </tr>\n    <tr>\n      <th>73</th>\n      <td>World</td>\n      <td>OWID_WRL</td>\n      <td>2013</td>\n      <td>1.012700e+14</td>\n    </tr>\n    <tr>\n      <th>74</th>\n      <td>World</td>\n      <td>OWID_WRL</td>\n      <td>2014</td>\n      <td>1.047200e+14</td>\n    </tr>\n    <tr>\n      <th>75</th>\n      <td>World</td>\n      <td>OWID_WRL</td>\n      <td>2015</td>\n      <td>1.081200e+14</td>\n    </tr>\n  </tbody>\n</table>\n<p>76 rows × 4 columns</p>\n</div>"
     },
     "metadata": {},
     "execution_count": 47
    }
   ],
   "source": [
    "data = data.rename(columns={' (int.-$)': 'GDP'})\n",
    "\n",
    "data"
   ]
  },
  {
   "cell_type": "code",
   "execution_count": 48,
   "metadata": {},
   "outputs": [],
   "source": [
    "data.to_sql('world_gdp', engine, if_exists='replace', index=False)"
   ]
  }
 ],
 "metadata": {
  "kernelspec": {
   "display_name": "Python 3.8.3 64-bit",
   "name": "python_defaultSpec_1599057182426"
  },
  "language_info": {
   "codemirror_mode": {
    "name": "ipython",
    "version": 3
   },
   "file_extension": ".py",
   "mimetype": "text/x-python",
   "name": "python",
   "nbconvert_exporter": "python",
   "pygments_lexer": "ipython3",
   "version": "3.8.3-final"
  },
  "orig_nbformat": 2
 },
 "nbformat": 4,
 "nbformat_minor": 2
}